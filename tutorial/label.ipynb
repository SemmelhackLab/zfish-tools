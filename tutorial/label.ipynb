{
 "cells": [
  {
   "cell_type": "code",
   "execution_count": 1,
   "metadata": {},
   "outputs": [],
   "source": [
    "import sys\n",
    "sys.path.append(\"..\")"
   ]
  },
  {
   "cell_type": "markdown",
   "metadata": {},
   "source": [
    "# Tutorial: using graphical interface to generate labels"
   ]
  },
  {
   "cell_type": "markdown",
   "metadata": {},
   "source": [
    "## Screenshots"
   ]
  },
  {
   "cell_type": "markdown",
   "metadata": {},
   "source": [
    "<img src=\"captures/step1.png\" width=400>\n",
    "<img src=\"captures/step2.png\" width=400>\n",
    "<img src=\"captures/step3.png\" width=400>\n",
    "<img src=\"captures/step4.png\" width=400>\n",
    "<img src=\"captures/step5.png\" width=400>\n",
    "<img src=\"captures/step6.png\" width=400>"
   ]
  },
  {
   "cell_type": "markdown",
   "metadata": {},
   "source": [
    "## Run DLCLabeler"
   ]
  },
  {
   "cell_type": "code",
   "execution_count": 2,
   "metadata": {},
   "outputs": [
    {
     "name": "stdout",
     "output_type": "stream",
     "text": [
      "Select ROIs:\n",
      "1. Select left eye, then press enter\n",
      "2. Select right eye, then press enter\n",
      "3. Select swim bladder, then press enter\n",
      "4. Press ESC\n",
      "Label tail:\n",
      "1. Draw tail on a selected frame\n",
      "2. Press enter to save labels\n",
      "\n",
      "Press ESC when finish labeling all the frames needed\n",
      "Frame 847 captured.\n",
      "Frame 1064 captured.\n",
      "Labels of sample is saved to C:/Users/kclam/deeplabcut-zebrafish/models/larvalzebrafish_topview-semmelhacklab-2020-05-14/labeled-data/sample\n"
     ]
    }
   ],
   "source": [
    "from zfishtools import DLCLabeler\n",
    "labeler = DLCLabeler()"
   ]
  },
  {
   "cell_type": "markdown",
   "metadata": {},
   "source": [
    "## (Optional) Check labels\n",
    "Use ```deeplabcut.check_labels``` to ensure labels are read correctly"
   ]
  },
  {
   "cell_type": "code",
   "execution_count": null,
   "metadata": {},
   "outputs": [],
   "source": [
    "import deeplabcut"
   ]
  },
  {
   "cell_type": "code",
   "execution_count": null,
   "metadata": {},
   "outputs": [],
   "source": [
    "deeplabcut.check_labels(labeler.config_path)"
   ]
  },
  {
   "cell_type": "code",
   "execution_count": null,
   "metadata": {},
   "outputs": [],
   "source": []
  }
 ],
 "metadata": {
  "kernelspec": {
   "display_name": "Python [conda env:DLC-GPU] *",
   "language": "python",
   "name": "conda-env-DLC-GPU-py"
  },
  "language_info": {
   "codemirror_mode": {
    "name": "ipython",
    "version": 3
   },
   "file_extension": ".py",
   "mimetype": "text/x-python",
   "name": "python",
   "nbconvert_exporter": "python",
   "pygments_lexer": "ipython3",
   "version": "3.7.7"
  }
 },
 "nbformat": 4,
 "nbformat_minor": 4
}
